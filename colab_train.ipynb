{
  "cells": [
    {
      "cell_type": "markdown",
      "metadata": {
        "id": "2EA6wcr6hqZq"
      },
      "source": [
        "# GDrive Setup"
      ]
    },
    {
      "cell_type": "code",
      "execution_count": null,
      "metadata": {
        "colab": {
          "base_uri": "https://localhost:8080/"
        },
        "id": "S_Fxh7L8aPwz",
        "outputId": "6a2a73dc-89ab-432f-a2d8-e46d4d4edd56"
      },
      "outputs": [],
      "source": [
        "from google.colab import drive\n",
        "drive.mount('/content/gdrive')"
      ]
    },
    {
      "cell_type": "code",
      "execution_count": null,
      "metadata": {
        "id": "I_GmhjwS2wyx"
      },
      "outputs": [],
      "source": [
        "!git clone https://github.com/vidithbalasa/Research---Deep-Residual-Learning-for-Image-Recognition.git"
      ]
    },
    {
      "cell_type": "code",
      "execution_count": null,
      "metadata": {
        "colab": {
          "base_uri": "https://localhost:8080/"
        },
        "id": "YwFT543oaugQ",
        "outputId": "b4e91059-8925-4a91-aa87-4c594ed6570c"
      },
      "outputs": [],
      "source": [
        "%cd gdrive/My\\ Drive/Research---Deep-Residual-Learning-for-Image-Recognition\n",
        "%ls"
      ]
    },
    {
      "cell_type": "code",
      "execution_count": null,
      "metadata": {
        "colab": {
          "base_uri": "https://localhost:8080/"
        },
        "id": "gxIPyi3Ua7xQ",
        "outputId": "05c5893c-6096-49dc-8618-463e0df85bc3"
      },
      "outputs": [],
      "source": [
        "# call when needed\n",
        "# !git pull"
      ]
    },
    {
      "cell_type": "markdown",
      "metadata": {
        "id": "QdHLN1plhuci"
      },
      "source": [
        "# Imports"
      ]
    },
    {
      "cell_type": "code",
      "execution_count": null,
      "metadata": {
        "id": "kFVVlD-qhvoo"
      },
      "outputs": [],
      "source": [
        "!pip install --upgrade pip\n",
        "!pip install torch torchvision pillow"
      ]
    },
    {
      "cell_type": "code",
      "execution_count": null,
      "metadata": {
        "id": "JheO045zhpsp"
      },
      "outputs": [],
      "source": [
        "from use_model import create_resnet, Architectures\n",
        "from train import train\n",
        "from params import Params\n",
        "import torch\n",
        "import os"
      ]
    },
    {
      "cell_type": "markdown",
      "metadata": {
        "id": "zs8QQFoXi1Ln"
      },
      "source": [
        "# Training"
      ]
    },
    {
      "cell_type": "code",
      "execution_count": null,
      "metadata": {
        "id": "0LOpm5v10cO7"
      },
      "outputs": [],
      "source": [
        "# directory to store model & training data\n",
        "model_dir = 'results'\n",
        "os.makedirs(model_dir, exist_ok=True)"
      ]
    },
    {
      "cell_type": "code",
      "execution_count": null,
      "metadata": {
        "colab": {
          "base_uri": "https://localhost:8080/"
        },
        "id": "0FSWiLDLxOhV",
        "outputId": "0f5dfa32-b0d9-43a2-dcba-b0ff17835c60"
      },
      "outputs": [],
      "source": [
        "Params.print()"
      ]
    },
    {
      "cell_type": "code",
      "execution_count": null,
      "metadata": {
        "id": "FZoNUwqAi2Zl"
      },
      "outputs": [],
      "source": [
        "architecture = Architectures.resnet20 # Options: 20, 32, 44, 56 || Bottleneck Options: 50, 101, 152\n",
        "model = create_resnet(architecture)\n",
        "model.to(torch.device(Params.DEVICE))"
      ]
    },
    {
      "cell_type": "code",
      "execution_count": null,
      "metadata": {
        "id": "YsASVISuuNuM"
      },
      "outputs": [],
      "source": [
        "# use this to load in saved weights\n",
        "# weights = 'results/resnet20/resnet20_1.pt'\n",
        "# model.load_state_dict(torch.load(weights))"
      ]
    },
    {
      "cell_type": "code",
      "execution_count": null,
      "metadata": {
        "id": "dR3DZd0DucBr"
      },
      "outputs": [],
      "source": [
        "train(model, save_name=f'{model_dir}/resnet20')"
      ]
    }
  ],
  "metadata": {
    "accelerator": "GPU",
    "colab": {
      "collapsed_sections": [
        "QdHLN1plhuci"
      ],
      "name": "colab train.ipynb",
      "provenance": []
    },
    "gpuClass": "standard",
    "kernelspec": {
      "display_name": "Python 3",
      "name": "python3"
    },
    "language_info": {
      "name": "python"
    }
  },
  "nbformat": 4,
  "nbformat_minor": 0
}
